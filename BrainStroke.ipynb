{
 "cells": [
  {
   "cell_type": "markdown",
   "id": "b42fe306",
   "metadata": {},
   "source": [
    "# Brain Stroke"
   ]
  },
  {
   "cell_type": "markdown",
   "id": "eb1341ac",
   "metadata": {},
   "source": [
    "A stroke is a medical condition in which poor blood flow to the brain causes cell death. There are two main types of stroke: ischemic, due to lack of blood flow, and hemorrhagic, due to bleeding. Both cause parts of the brain to stop functioning properly. Signs and symptoms of a stroke may include an inability to move or feel on one side of the body, problems understanding or speaking, dizziness, or loss of vision to one side. Signs and symptoms often appear soon after the stroke has occurred. If symptoms last less than one or two hours, the stroke is a transient ischemic attack (TIA), also called a mini-stroke. A hemorrhagic stroke may also be associated with a severe headache. The symptoms of a stroke can be permanent. Long-term complications may include pneumonia and loss of bladder control.\n",
    "\n",
    "The main risk factor for stroke is high blood pressure. Other risk factors include high blood cholesterol, tobacco smoking, obesity, diabetes mellitus, a previous TIA, end-stage kidney disease, and atrial fibrillation. An ischemic stroke is typically caused by blockage of a blood vessel, though there are also less common causes. A hemorrhagic stroke is caused by either bleeding directly into the brain or into the space between the brain's membranes. Bleeding may occur due to a ruptured brain aneurysm. Diagnosis is typically based on a physical exam and is supported by medical imaging such as a CT scan or MRI scan. A CT scan can rule out bleeding, but may not necessarily rule out ischemia, which early on typically does not show up on a CT scan. Other tests such as an electrocardiogram (ECG) and blood tests are done to determine risk factors and rule out other possible causes. Low blood sugar may cause similar symptoms.\n",
    "\n",
    "Prevention includes decreasing risk factors, surgery to open up the arteries to the brain in those with problematic carotid narrowing, and warfarin in people with atrial fibrillation. Aspirin or statins may be recommended by physicians for prevention. A stroke or TIA often requires emergency care. An ischemic stroke, if detected within three to four and half hours, may be treatable with a medication that can break down the clot. Some hemorrhagic strokes benefit from surgery. Treatment to attempt recovery of lost function is called stroke rehabilitation, and ideally takes place in a stroke unit; however, these are not available in much of the world."
   ]
  },
  {
   "cell_type": "markdown",
   "id": "af291125",
   "metadata": {},
   "source": [
    "# Import Dependencies"
   ]
  },
  {
   "cell_type": "code",
   "execution_count": 44,
   "id": "8240ab01",
   "metadata": {},
   "outputs": [],
   "source": [
    "import pandas as pd\n",
    "import matplotlib.pyplot as plt\n",
    "import seaborn as sns\n",
    "import numpy as np\n",
    "from sklearn.model_selection import train_test_split\n",
    "from sklearn.metrics import confusion_matrix,classification_report\n",
    "from sklearn.linear_model import LinearRegression,LogisticRegression\n",
    "from sklearn.tree import DecisionTreeClassifier\n",
    "from sklearn.ensemble import RandomForestClassifier\n",
    "from sklearn.svm import SVC"
   ]
  },
  {
   "cell_type": "markdown",
   "id": "dcf96944",
   "metadata": {},
   "source": [
    "# Import Data"
   ]
  },
  {
   "cell_type": "code",
   "execution_count": 45,
   "id": "73d5def8",
   "metadata": {},
   "outputs": [],
   "source": [
    "dataset=pd.read_csv('BrainStroke.csv')"
   ]
  },
  {
   "cell_type": "markdown",
   "id": "78a4f438",
   "metadata": {},
   "source": [
    "# EDA"
   ]
  },
  {
   "cell_type": "markdown",
   "id": "7a80c9fa",
   "metadata": {},
   "source": [
    "# Attribute Information of Dataset"
   ]
  },
  {
   "cell_type": "markdown",
   "id": "861e4cfb",
   "metadata": {},
   "source": [
    "1) gender: \"Male\", \"Female\" or \"Other\"\n",
    "2) age: age of the patient\n",
    "3) hypertension: 0 if the patient doesn't have hypertension, 1 if the patient has hypertension\n",
    "4) heart disease: 0 if the patient doesn't have any heart diseases, 1 if the patient has a heart disease 5) Ever-married: \"No\" or \"Yes\"\n",
    "6) work type: \"children\", \"Govtjov\", \"Never worked\", \"Private\" or \"Self-employed\" 7) Residencetype: \"Rural\" or \"Urban\"\n",
    "8) avg glucose level: average glucose level in blood\n",
    "9) BMI: body mass index\n",
    "10) smoking_status: \"formerly smoked\", \"never smoked\", \"smokes\" or \"Unknown\"*\n",
    "11) stroke: 1 if the patient had a stroke or 0 if not"
   ]
  },
  {
   "cell_type": "code",
   "execution_count": 46,
   "id": "e9cd2be7",
   "metadata": {},
   "outputs": [
    {
     "data": {
      "text/plain": [
       "(4981, 11)"
      ]
     },
     "execution_count": 46,
     "metadata": {},
     "output_type": "execute_result"
    }
   ],
   "source": [
    "dataset.shape"
   ]
  },
  {
   "cell_type": "code",
   "execution_count": 47,
   "id": "4b31bff3",
   "metadata": {},
   "outputs": [
    {
     "data": {
      "text/html": [
       "<div>\n",
       "<style scoped>\n",
       "    .dataframe tbody tr th:only-of-type {\n",
       "        vertical-align: middle;\n",
       "    }\n",
       "\n",
       "    .dataframe tbody tr th {\n",
       "        vertical-align: top;\n",
       "    }\n",
       "\n",
       "    .dataframe thead th {\n",
       "        text-align: right;\n",
       "    }\n",
       "</style>\n",
       "<table border=\"1\" class=\"dataframe\">\n",
       "  <thead>\n",
       "    <tr style=\"text-align: right;\">\n",
       "      <th></th>\n",
       "      <th>gender</th>\n",
       "      <th>age</th>\n",
       "      <th>hypertension</th>\n",
       "      <th>heart_disease</th>\n",
       "      <th>ever_married</th>\n",
       "      <th>work_type</th>\n",
       "      <th>Residence_type</th>\n",
       "      <th>avg_glucose_level</th>\n",
       "      <th>bmi</th>\n",
       "      <th>smoking_status</th>\n",
       "      <th>stroke</th>\n",
       "    </tr>\n",
       "  </thead>\n",
       "  <tbody>\n",
       "    <tr>\n",
       "      <th>0</th>\n",
       "      <td>Male</td>\n",
       "      <td>67.0</td>\n",
       "      <td>0</td>\n",
       "      <td>1</td>\n",
       "      <td>Yes</td>\n",
       "      <td>Private</td>\n",
       "      <td>Urban</td>\n",
       "      <td>228.69</td>\n",
       "      <td>36.6</td>\n",
       "      <td>formerly smoked</td>\n",
       "      <td>1</td>\n",
       "    </tr>\n",
       "    <tr>\n",
       "      <th>1</th>\n",
       "      <td>Male</td>\n",
       "      <td>80.0</td>\n",
       "      <td>0</td>\n",
       "      <td>1</td>\n",
       "      <td>Yes</td>\n",
       "      <td>Private</td>\n",
       "      <td>Rural</td>\n",
       "      <td>105.92</td>\n",
       "      <td>32.5</td>\n",
       "      <td>never smoked</td>\n",
       "      <td>1</td>\n",
       "    </tr>\n",
       "    <tr>\n",
       "      <th>2</th>\n",
       "      <td>Female</td>\n",
       "      <td>49.0</td>\n",
       "      <td>0</td>\n",
       "      <td>0</td>\n",
       "      <td>Yes</td>\n",
       "      <td>Private</td>\n",
       "      <td>Urban</td>\n",
       "      <td>171.23</td>\n",
       "      <td>34.4</td>\n",
       "      <td>smokes</td>\n",
       "      <td>1</td>\n",
       "    </tr>\n",
       "    <tr>\n",
       "      <th>3</th>\n",
       "      <td>Female</td>\n",
       "      <td>79.0</td>\n",
       "      <td>1</td>\n",
       "      <td>0</td>\n",
       "      <td>Yes</td>\n",
       "      <td>Self-employed</td>\n",
       "      <td>Rural</td>\n",
       "      <td>174.12</td>\n",
       "      <td>24.0</td>\n",
       "      <td>never smoked</td>\n",
       "      <td>1</td>\n",
       "    </tr>\n",
       "    <tr>\n",
       "      <th>4</th>\n",
       "      <td>Male</td>\n",
       "      <td>81.0</td>\n",
       "      <td>0</td>\n",
       "      <td>0</td>\n",
       "      <td>Yes</td>\n",
       "      <td>Private</td>\n",
       "      <td>Urban</td>\n",
       "      <td>186.21</td>\n",
       "      <td>29.0</td>\n",
       "      <td>formerly smoked</td>\n",
       "      <td>1</td>\n",
       "    </tr>\n",
       "  </tbody>\n",
       "</table>\n",
       "</div>"
      ],
      "text/plain": [
       "   gender   age  hypertension  heart_disease ever_married      work_type  \\\n",
       "0    Male  67.0             0              1          Yes        Private   \n",
       "1    Male  80.0             0              1          Yes        Private   \n",
       "2  Female  49.0             0              0          Yes        Private   \n",
       "3  Female  79.0             1              0          Yes  Self-employed   \n",
       "4    Male  81.0             0              0          Yes        Private   \n",
       "\n",
       "  Residence_type  avg_glucose_level   bmi   smoking_status  stroke  \n",
       "0          Urban             228.69  36.6  formerly smoked       1  \n",
       "1          Rural             105.92  32.5     never smoked       1  \n",
       "2          Urban             171.23  34.4           smokes       1  \n",
       "3          Rural             174.12  24.0     never smoked       1  \n",
       "4          Urban             186.21  29.0  formerly smoked       1  "
      ]
     },
     "execution_count": 47,
     "metadata": {},
     "output_type": "execute_result"
    }
   ],
   "source": [
    "dataset.head()"
   ]
  },
  {
   "cell_type": "code",
   "execution_count": 48,
   "id": "8847d849",
   "metadata": {
    "scrolled": true
   },
   "outputs": [
    {
     "data": {
      "text/plain": [
       "gender                object\n",
       "age                  float64\n",
       "hypertension           int64\n",
       "heart_disease          int64\n",
       "ever_married          object\n",
       "work_type             object\n",
       "Residence_type        object\n",
       "avg_glucose_level    float64\n",
       "bmi                  float64\n",
       "smoking_status        object\n",
       "stroke                 int64\n",
       "dtype: object"
      ]
     },
     "execution_count": 48,
     "metadata": {},
     "output_type": "execute_result"
    }
   ],
   "source": [
    "#checking the data type of each column\n",
    "dataset.dtypes"
   ]
  },
  {
   "cell_type": "code",
   "execution_count": 49,
   "id": "9f37a70d",
   "metadata": {},
   "outputs": [
    {
     "data": {
      "text/plain": [
       "gender               0\n",
       "age                  0\n",
       "hypertension         0\n",
       "heart_disease        0\n",
       "ever_married         0\n",
       "work_type            0\n",
       "Residence_type       0\n",
       "avg_glucose_level    0\n",
       "bmi                  0\n",
       "smoking_status       0\n",
       "stroke               0\n",
       "dtype: int64"
      ]
     },
     "execution_count": 49,
     "metadata": {},
     "output_type": "execute_result"
    }
   ],
   "source": [
    "#checking for null values in the dataset\n",
    "dataset.isna().sum()"
   ]
  },
  {
   "cell_type": "code",
   "execution_count": 50,
   "id": "e5dc11e7",
   "metadata": {},
   "outputs": [
    {
     "name": "stdout",
     "output_type": "stream",
     "text": [
      "gender : ['Male' 'Female']\n",
      "age : [6.70e+01 8.00e+01 4.90e+01 7.90e+01 8.10e+01 7.40e+01 6.90e+01 7.80e+01\n",
      " 6.10e+01 5.40e+01 5.00e+01 6.40e+01 7.50e+01 6.00e+01 7.10e+01 5.20e+01\n",
      " 8.20e+01 6.50e+01 5.70e+01 4.20e+01 4.80e+01 7.20e+01 5.80e+01 7.60e+01\n",
      " 3.90e+01 7.70e+01 6.30e+01 7.30e+01 5.60e+01 4.50e+01 7.00e+01 5.90e+01\n",
      " 6.60e+01 4.30e+01 6.80e+01 4.70e+01 5.30e+01 3.80e+01 5.50e+01 4.60e+01\n",
      " 3.20e+01 5.10e+01 1.40e+01 3.00e+00 8.00e+00 3.70e+01 4.00e+01 3.50e+01\n",
      " 2.00e+01 4.40e+01 2.50e+01 2.70e+01 2.30e+01 1.70e+01 1.30e+01 4.00e+00\n",
      " 1.60e+01 2.20e+01 3.00e+01 2.90e+01 1.10e+01 2.10e+01 1.80e+01 3.30e+01\n",
      " 2.40e+01 3.60e+01 6.40e-01 3.40e+01 4.10e+01 8.80e-01 5.00e+00 2.60e+01\n",
      " 3.10e+01 7.00e+00 1.20e+01 6.20e+01 2.00e+00 9.00e+00 1.50e+01 2.80e+01\n",
      " 1.00e+01 1.80e+00 3.20e-01 1.08e+00 1.90e+01 6.00e+00 1.16e+00 1.00e+00\n",
      " 1.40e+00 1.72e+00 2.40e-01 1.64e+00 1.56e+00 7.20e-01 1.88e+00 1.24e+00\n",
      " 8.00e-01 4.00e-01 8.00e-02 1.48e+00 5.60e-01 1.32e+00 1.60e-01 4.80e-01]\n",
      "hypertension : [0 1]\n",
      "heart_disease : [1 0]\n",
      "ever_married : ['Yes' 'No']\n",
      "work_type : ['Private' 'Self-employed' 'Govt_job' 'children']\n",
      "Residence_type : ['Urban' 'Rural']\n",
      "avg_glucose_level : [228.69 105.92 171.23 ... 191.15  95.02  83.94]\n",
      "bmi : [36.6 32.5 34.4 24.  29.  27.4 22.8 24.2 29.7 36.8 27.3 28.2 30.9 37.5\n",
      " 25.8 37.8 22.4 48.9 26.6 27.2 23.5 28.3 44.2 25.4 22.2 30.5 26.5 33.7\n",
      " 23.1 32.  29.9 23.9 28.5 26.4 20.2 33.6 38.6 39.2 27.7 31.4 36.5 33.2\n",
      " 32.8 40.4 25.3 30.2 47.5 20.3 30.  28.9 28.1 31.1 21.7 27.  24.1 45.9\n",
      " 44.1 22.9 29.1 32.3 41.1 25.6 29.8 26.3 26.2 29.4 24.4 28.  28.8 34.6\n",
      " 19.4 30.3 41.5 22.6 27.1 31.3 31.  31.7 35.8 28.4 20.1 26.7 38.7 34.9\n",
      " 25.  23.8 21.8 27.5 24.6 32.9 26.1 31.9 34.1 36.9 37.3 45.7 34.2 23.6\n",
      " 22.3 37.1 45.  25.5 30.8 37.4 34.5 27.9 29.5 46.  42.5 35.5 26.9 45.5\n",
      " 31.5 33.  23.4 30.7 20.5 21.5 40.  28.6 42.2 29.6 35.4 16.9 26.8 39.3\n",
      " 32.6 35.9 21.2 42.4 40.5 36.7 29.3 19.6 18.  17.6 17.7 35.  22.  39.4\n",
      " 19.7 22.5 25.2 41.8 23.7 24.5 31.2 16.  31.6 25.1 24.8 18.3 20.  19.5\n",
      " 36.  35.3 40.1 43.1 21.4 34.3 27.6 16.5 24.3 25.7 21.9 38.4 25.9 18.6\n",
      " 24.9 48.2 20.7 39.5 23.3 35.1 43.6 21.  47.3 16.6 21.6 15.5 35.6 16.7\n",
      " 41.9 16.4 17.1 29.2 37.9 44.6 39.6 40.3 41.6 39.  23.2 18.9 36.1 36.3\n",
      " 46.5 16.8 46.6 35.2 20.9 31.8 15.3 38.2 45.2 17.  27.8 23.  22.1 26.\n",
      " 44.3 39.7 34.7 21.3 41.2 34.8 19.2 35.7 40.8 24.7 19.  32.4 34.  28.7\n",
      " 32.1 20.4 30.6 19.3 40.9 17.2 16.1 16.2 40.6 18.4 21.1 42.3 32.2 17.5\n",
      " 42.1 47.8 20.8 30.1 17.3 36.4 36.2 14.4 43.  41.7 33.8 43.9 22.7 18.7\n",
      " 37.  38.5 16.3 44.  32.7 40.2 33.3 17.4 41.3 14.6 17.8 46.1 33.1 18.1\n",
      " 43.8 38.9 43.7 39.9 15.9 19.8 38.3 41.  42.6 43.4 15.1 20.6 33.5 43.2\n",
      " 19.1 30.4 38.  33.4 44.9 44.7 37.6 39.8 42.  37.2 42.8 18.8 42.9 14.3\n",
      " 37.7 48.4 46.2 43.3 33.9 18.5 44.5 45.4 19.9 17.9 15.6 15.2 18.2 48.5\n",
      " 14.1 15.7 44.8 38.1 44.4 38.8 39.1 41.4 14.2 15.4 45.1 48.7 42.7 48.8\n",
      " 15.8 45.3 14.8 40.7 48.  46.8 48.3 14.5 15.  47.4 47.9 45.8 47.6 14.\n",
      " 46.4 46.9 47.1 48.1 46.3 14.9]\n",
      "smoking_status : ['formerly smoked' 'never smoked' 'smokes' 'Unknown']\n",
      "stroke : [1 0]\n"
     ]
    }
   ],
   "source": [
    "#exploring the dataset\n",
    "\n",
    "for col in dataset.columns:\n",
    "    print(f'{col} : {dataset[col].unique()}')"
   ]
  },
  {
   "cell_type": "code",
   "execution_count": 51,
   "id": "65c4feb3",
   "metadata": {},
   "outputs": [],
   "source": [
    "#replacing the object values to integer values\n",
    "dataset.replace({'Male':1 ,'Female':0},inplace=True)\n",
    "dataset.replace({'Yes':1 ,'No':0},inplace=True)\n",
    "dataset.replace({'Private':1, 'Self-employed':2, 'Govt_job':3, 'children':4},inplace=True)\n",
    "dataset.replace({'Urban':0 ,'Rural':1},inplace=True)\n",
    "dataset.replace({'formerly smoked':1 ,'never smoked':2 ,'smokes':3, 'Unknown':4},inplace=True)"
   ]
  },
  {
   "cell_type": "code",
   "execution_count": 52,
   "id": "78153913",
   "metadata": {
    "scrolled": true
   },
   "outputs": [
    {
     "data": {
      "text/plain": [
       "gender                 int64\n",
       "age                  float64\n",
       "hypertension           int64\n",
       "heart_disease          int64\n",
       "ever_married           int64\n",
       "work_type              int64\n",
       "Residence_type         int64\n",
       "avg_glucose_level    float64\n",
       "bmi                  float64\n",
       "smoking_status         int64\n",
       "stroke                 int64\n",
       "dtype: object"
      ]
     },
     "execution_count": 52,
     "metadata": {},
     "output_type": "execute_result"
    }
   ],
   "source": [
    "dataset.dtypes"
   ]
  },
  {
   "cell_type": "code",
   "execution_count": 53,
   "id": "b95b4060",
   "metadata": {},
   "outputs": [
    {
     "data": {
      "text/plain": [
       "((4733, 11), (248, 11))"
      ]
     },
     "execution_count": 53,
     "metadata": {},
     "output_type": "execute_result"
    }
   ],
   "source": [
    "#seperating the patients based on stroke\n",
    "patients_not_having_stroke=dataset[dataset['stroke']==0]\n",
    "patients_having_stroke=dataset[dataset['stroke']==1]\n",
    "patients_not_having_stroke.shape,patients_having_stroke.shape"
   ]
  },
  {
   "cell_type": "code",
   "execution_count": 54,
   "id": "7eb98baf",
   "metadata": {
    "scrolled": true
   },
   "outputs": [
    {
     "data": {
      "text/plain": [
       "([<matplotlib.patches.Wedge at 0x2115efe2ad0>,\n",
       "  <matplotlib.patches.Wedge at 0x2115efe3100>],\n",
       " [Text(-1.0865708998339851, 0.17135833692576546, 'target=0'),\n",
       "  Text(1.086570903844916, -0.17135831149273842, 'taget=1')],\n",
       " [Text(-0.5926750362730827, 0.09346818377769024, '95.02'),\n",
       "  Text(0.5926750384608632, -0.09346816990513003, '4.98')])"
      ]
     },
     "execution_count": 54,
     "metadata": {},
     "output_type": "execute_result"
    },
    {
     "data": {
      "image/png": "[encoded data removed]",
      "text/plain": [
       "<Figure size 640x480 with 1 Axes>"
      ]
     },
     "metadata": {},
     "output_type": "display_data"
    }
   ],
   "source": [
    "plt.pie([4733,248], labels=['target=0','taget=1'], autopct='%.2f')"
   ]
  },
  {
   "cell_type": "markdown",
   "id": "349c2790",
   "metadata": {},
   "source": [
    "# over sampling"
   ]
  },
  {
   "cell_type": "code",
   "execution_count": 55,
   "id": "337041a4",
   "metadata": {},
   "outputs": [
    {
     "data": {
      "text/plain": [
       "(4733, 11)"
      ]
     },
     "execution_count": 55,
     "metadata": {},
     "output_type": "execute_result"
    }
   ],
   "source": [
    "dataset1=patients_having_stroke.sample(4733,replace=True)\n",
    "dataset1.shape"
   ]
  },
  {
   "cell_type": "code",
   "execution_count": 56,
   "id": "38597afa",
   "metadata": {},
   "outputs": [],
   "source": [
    "dataset2=pd.concat([patients_not_having_stroke,dataset1])"
   ]
  },
  {
   "cell_type": "code",
   "execution_count": 57,
   "id": "065ef9af",
   "metadata": {},
   "outputs": [
    {
     "data": {
      "text/plain": [
       "(4733, 4733)"
      ]
     },
     "execution_count": 57,
     "metadata": {},
     "output_type": "execute_result"
    }
   ],
   "source": [
    "patients_not_having_stroke,patients_having_stroke=dataset2['stroke'].value_counts()\n",
    "patients_not_having_stroke,patients_having_stroke"
   ]
  },
  {
   "cell_type": "code",
   "execution_count": 58,
   "id": "2e9a6083",
   "metadata": {
    "scrolled": true
   },
   "outputs": [
    {
     "data": {
      "text/plain": [
       "([<matplotlib.patches.Wedge at 0x2116102cee0>,\n",
       "  <matplotlib.patches.Wedge at 0x2116102d570>],\n",
       " [Text(6.735557395310444e-17, 1.1, 'target=0'),\n",
       "  Text(-2.0206672185931328e-16, -1.1, 'taget=1')],\n",
       " [Text(3.6739403974420595e-17, 0.6, '50.00'),\n",
       "  Text(-1.1021821192326178e-16, -0.6, '50.00')])"
      ]
     },
     "execution_count": 58,
     "metadata": {},
     "output_type": "execute_result"
    },
    {
     "data": {
      "image/png": "[encoded data removed]",
      "text/plain": [
       "<Figure size 640x480 with 1 Axes>"
      ]
     },
     "metadata": {},
     "output_type": "display_data"
    }
   ],
   "source": [
    "plt.pie(x=[patients_not_having_stroke,patients_having_stroke], labels=['target=0','taget=1'], autopct='%.2f')"
   ]
  },
  {
   "cell_type": "code",
   "execution_count": 59,
   "id": "ce4c72c1",
   "metadata": {},
   "outputs": [],
   "source": [
    "data=dataset2.drop(columns=['stroke'])\n",
    "target=dataset2['stroke']"
   ]
  },
  {
   "cell_type": "markdown",
   "id": "ee975097",
   "metadata": {},
   "source": [
    "# Spliting the data for training and testing"
   ]
  },
  {
   "cell_type": "code",
   "execution_count": 60,
   "id": "95d3a42c",
   "metadata": {},
   "outputs": [],
   "source": [
    "xtrain,xtest,ytrain,ytest=train_test_split(data,target,test_size=0.2)"
   ]
  },
  {
   "cell_type": "code",
   "execution_count": 61,
   "id": "5e23bc6b",
   "metadata": {},
   "outputs": [
    {
     "name": "stdout",
     "output_type": "stream",
     "text": [
      "The shape of xtrain is (7572, 10)\n",
      "The shape of ytrain is (7572,)\n",
      "The shape of xtest is (1894, 10)\n",
      "The shape of ytest is (1894,)\n"
     ]
    }
   ],
   "source": [
    "print(f\"The shape of xtrain is {xtrain.shape}\")\n",
    "print(f\"The shape of ytrain is {ytrain.shape}\")\n",
    "print(f\"The shape of xtest is {xtest.shape}\")\n",
    "print(f\"The shape of ytest is {ytest.shape}\")"
   ]
  },
  {
   "cell_type": "code",
   "execution_count": 62,
   "id": "aa310258",
   "metadata": {},
   "outputs": [],
   "source": [
    "#function to give accuracy,heatmap and confusion matrix\n",
    "def Train_model(Algorithm_name,Algorithm):\n",
    "    model=Algorithm\n",
    "    model.fit(xtrain,ytrain)\n",
    "    result=model.score(xtest,ytest)\n",
    "    accuracy=result*100\n",
    "    predicted_values=model.predict(xtest)\n",
    "    predicted_values=predicted_values.astype(int)\n",
    "    con_matrix=confusion_matrix(ytest,predicted_values)\n",
    "    sns.heatmap(con_matrix,annot=True)\n",
    "    print(f\"BY using {Algorithm_name} Algorithm we get the accuray of {np.round(accuracy,2)}%\")\n",
    "    print(classification_report(ytest,predicted_values))"
   ]
  },
  {
   "cell_type": "markdown",
   "id": "2cd69a68",
   "metadata": {},
   "source": [
    "# Linear Regression"
   ]
  },
  {
   "cell_type": "code",
   "execution_count": 63,
   "id": "c3cf773b",
   "metadata": {},
   "outputs": [
    {
     "name": "stdout",
     "output_type": "stream",
     "text": [
      "BY using Linear Regression Algorithm we get the accuray of 35.81%\n",
      "              precision    recall  f1-score   support\n",
      "\n",
      "           0       0.51      1.00      0.67       958\n",
      "           1       0.89      0.01      0.02       936\n",
      "\n",
      "    accuracy                           0.51      1894\n",
      "   macro avg       0.70      0.50      0.35      1894\n",
      "weighted avg       0.70      0.51      0.35      1894\n",
      "\n"
     ]
    },
    {
     "data": {
      "image/png": "[encoded data removed]",
      "text/plain": [
       "<Figure size 640x480 with 2 Axes>"
      ]
     },
     "metadata": {},
     "output_type": "display_data"
    }
   ],
   "source": [
    "Train_model(\"Linear Regression\",LinearRegression())"
   ]
  },
  {
   "cell_type": "markdown",
   "id": "93c69431",
   "metadata": {},
   "source": [
    "# Logistic Regression"
   ]
  },
  {
   "cell_type": "code",
   "execution_count": 64,
   "id": "c0efb9e4",
   "metadata": {},
   "outputs": [
    {
     "name": "stdout",
     "output_type": "stream",
     "text": [
      "BY using Logistic Regression Algorithm we get the accuray of 75.92%\n",
      "              precision    recall  f1-score   support\n",
      "\n",
      "           0       0.78      0.74      0.76       958\n",
      "           1       0.74      0.78      0.76       936\n",
      "\n",
      "    accuracy                           0.76      1894\n",
      "   macro avg       0.76      0.76      0.76      1894\n",
      "weighted avg       0.76      0.76      0.76      1894\n",
      "\n"
     ]
    },
    {
     "name": "stderr",
     "output_type": "stream",
     "text": [
      "C:\\Users\\VENKTESH DALAVAYI\\AppData\\Local\\Packages\\PythonSoftwareFoundation.Python.3.10_qbz5n2kfra8p0\\LocalCache\\local-packages\\Python310\\site-packages\\sklearn\\linear_model\\_logistic.py:458: ConvergenceWarning: lbfgs failed to converge (status=1):\n",
      "STOP: TOTAL NO. of ITERATIONS REACHED LIMIT.\n",
      "\n",
      "Increase the number of iterations (max_iter) or scale the data as shown in:\n",
      "    https://scikit-learn.org/stable/modules/preprocessing.html\n",
      "Please also refer to the documentation for alternative solver options:\n",
      "    https://scikit-learn.org/stable/modules/linear_model.html#logistic-regression\n",
      "  n_iter_i = _check_optimize_result(\n"
     ]
    },
    {
     "data": {
      "image/png": "[encoded data removed]",
      "text/plain": [
       "<Figure size 640x480 with 2 Axes>"
      ]
     },
     "metadata": {},
     "output_type": "display_data"
    }
   ],
   "source": [
    "Train_model(\"Logistic Regression\",LogisticRegression())"
   ]
  },
  {
   "cell_type": "markdown",
   "id": "1ca26828",
   "metadata": {},
   "source": [
    "# Decision Tree Classifier"
   ]
  },
  {
   "cell_type": "code",
   "execution_count": 89,
   "id": "18fc1c5d",
   "metadata": {
    "scrolled": true
   },
   "outputs": [
    {
     "name": "stdout",
     "output_type": "stream",
     "text": [
      "BY using Decision Tree Classifier Algorithm we get the accuray of 97.78%\n",
      "              precision    recall  f1-score   support\n",
      "\n",
      "           0       1.00      0.96      0.98       958\n",
      "           1       0.96      1.00      0.98       936\n",
      "\n",
      "    accuracy                           0.98      1894\n",
      "   macro avg       0.98      0.98      0.98      1894\n",
      "weighted avg       0.98      0.98      0.98      1894\n",
      "\n"
     ]
    },
    {
     "data": {
      "image/png": "[encoded data removed]",
      "text/plain": [
       "<Figure size 640x480 with 2 Axes>"
      ]
     },
     "metadata": {},
     "output_type": "display_data"
    }
   ],
   "source": [
    "Train_model(\"Decision Tree Classifier\",DecisionTreeClassifier())"
   ]
  },
  {
   "cell_type": "markdown",
   "id": "c1a07f2e",
   "metadata": {},
   "source": [
    "# Random Forest Classifier"
   ]
  },
  {
   "cell_type": "code",
   "execution_count": 102,
   "id": "2cd03b95",
   "metadata": {
    "scrolled": true
   },
   "outputs": [
    {
     "name": "stdout",
     "output_type": "stream",
     "text": [
      "BY using Random Forest Classifier Algorithm we get the accuray of 99.16%\n",
      "              precision    recall  f1-score   support\n",
      "\n",
      "           0       1.00      0.98      0.99       958\n",
      "           1       0.98      1.00      0.99       936\n",
      "\n",
      "    accuracy                           0.99      1894\n",
      "   macro avg       0.99      0.99      0.99      1894\n",
      "weighted avg       0.99      0.99      0.99      1894\n",
      "\n"
     ]
    },
    {
     "data": {
      "image/png": "[encoded data removed]",
      "text/plain": [
       "<Figure size 640x480 with 2 Axes>"
      ]
     },
     "metadata": {},
     "output_type": "display_data"
    }
   ],
   "source": [
    "Train_model(\"Random Forest Classifier\",RandomForestClassifier(n_estimators=60))"
   ]
  },
  {
   "cell_type": "code",
   "execution_count": 98,
   "id": "d5054f1a",
   "metadata": {
    "scrolled": false
   },
   "outputs": [
    {
     "name": "stdout",
     "output_type": "stream",
     "text": [
      "BY using SVC Algorithm we get the accuray of 98.94%\n",
      "              precision    recall  f1-score   support\n",
      "\n",
      "           0       1.00      0.98      0.99       958\n",
      "           1       0.98      1.00      0.99       936\n",
      "\n",
      "    accuracy                           0.99      1894\n",
      "   macro avg       0.99      0.99      0.99      1894\n",
      "weighted avg       0.99      0.99      0.99      1894\n",
      "\n"
     ]
    },
    {
     "data": {
      "image/png": "[encoded data removed]",
      "text/plain": [
       "<Figure size 640x480 with 2 Axes>"
      ]
     },
     "metadata": {},
     "output_type": "display_data"
    }
   ],
   "source": [
    "Train_model(\"SVC\",SVC(C=1000,gamma=0.1))"
   ]
  },
  {
   "cell_type": "markdown",
   "id": "7736a6a8",
   "metadata": {},
   "source": [
    "# Visualising the accuracy of each Algorithm"
   ]
  },
  {
   "cell_type": "code",
   "execution_count": 120,
   "id": "b6198f31",
   "metadata": {
    "scrolled": true
   },
   "outputs": [
    {
     "data": {
      "text/plain": [
       "[Text(0, 0, '35.81'),\n",
       " Text(0, 0, '75.92'),\n",
       " Text(0, 0, '97.68'),\n",
       " Text(0, 0, '99.21'),\n",
       " Text(0, 0, '98.94')]"
      ]
     },
     "execution_count": 120,
     "metadata": {},
     "output_type": "execute_result"
    },
    {
     "data": {
      "image/png": "[encoded data removed]",
      "text/plain": [
       "<Figure size 640x480 with 1 Axes>"
      ]
     },
     "metadata": {},
     "output_type": "display_data"
    }
   ],
   "source": [
    "ax=sns.barplot(x=[\"Linear Regression\",\"Logistic Regression\",\"Decision Tree Classifier\",\"Random Forest Classifier\",\"SVC\"],y=[35.81,75.92, 97.68,99.21,98.94])\n",
    "plt.xticks(rotation=30)\n",
    "plt.title(\"Accuracy of each Algorithm\")\n",
    "plt.xlabel(\"Algorithms\",size=12)\n",
    "plt.ylabel(\"Accuracy\",size=12)\n",
    "ax.bar_label(ax.containers[0])"
   ]
  },
  {
   "cell_type": "markdown",
   "id": "1edef071",
   "metadata": {},
   "source": [
    "# Random Forst Classifier"
   ]
  },
  {
   "cell_type": "markdown",
   "id": "7102df0a",
   "metadata": {},
   "source": [
    "we can seen in the above graph that Random Forset Classifier has highest Accuracy of 99.21%"
   ]
  },
  {
   "cell_type": "code",
   "execution_count": 117,
   "id": "c96d1a57",
   "metadata": {
    "scrolled": true
   },
   "outputs": [
    {
     "name": "stdout",
     "output_type": "stream",
     "text": [
      "BY using <class 'sklearn.ensemble._forest.RandomForestClassifier'> Algorithm we get the accuray of 99.21%\n",
      "              precision    recall  f1-score   support\n",
      "\n",
      "           0       1.00      0.98      0.99       958\n",
      "           1       0.98      1.00      0.99       936\n",
      "\n",
      "    accuracy                           0.99      1894\n",
      "   macro avg       0.99      0.99      0.99      1894\n",
      "weighted avg       0.99      0.99      0.99      1894\n",
      "\n"
     ]
    },
    {
     "data": {
      "image/png": "[encoded data removed]",
      "text/plain": [
       "<Figure size 640x480 with 2 Axes>"
      ]
     },
     "metadata": {},
     "output_type": "display_data"
    }
   ],
   "source": [
    "model=RandomForestClassifier(n_estimators=60)\n",
    "model.fit(xtrain,ytrain)\n",
    "result=model.score(xtest,ytest)\n",
    "accuracy=result*100\n",
    "predicted_values=model.predict(xtest)\n",
    "predicted_values=predicted_values.astype(int)\n",
    "con_matrix=confusion_matrix(ytest,predicted_values)\n",
    "sns.heatmap(con_matrix,annot=True)\n",
    "print(f\"BY using {RandomForestClassifier} Algorithm we get the accuray of {np.round(accuracy,2)}%\")\n",
    "print(classification_report(ytest,predicted_values))"
   ]
  },
  {
   "cell_type": "markdown",
   "id": "62fc8c0f",
   "metadata": {},
   "source": [
    "# Saving the model"
   ]
  },
  {
   "cell_type": "code",
   "execution_count": 119,
   "id": "73105a47",
   "metadata": {},
   "outputs": [],
   "source": [
    "import pickle as p\n",
    "p.dump(model,open(\"BrainStroke.p\",\"wb\"))"
   ]
  }
 ],
 "metadata": {
  "kernelspec": {
   "display_name": "Python 3 (ipykernel)",
   "language": "python",
   "name": "python3"
  },
  "language_info": {
   "codemirror_mode": {
    "name": "ipython",
    "version": 3
   },
   "file_extension": ".py",
   "mimetype": "text/x-python",
   "name": "python",
   "nbconvert_exporter": "python",
   "pygments_lexer": "ipython3",
   "version": "3.10.11"
  }
 },
 "nbformat": 4,
 "nbformat_minor": 5
}
